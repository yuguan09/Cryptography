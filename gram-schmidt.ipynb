{
 "cells": [
  {
   "cell_type": "markdown",
   "metadata": {},
   "source": [
    "# 1.gram-schmidt Algorithm"
   ]
  },
  {
   "cell_type": "code",
   "execution_count": 13,
   "metadata": {},
   "outputs": [],
   "source": [
    "import numpy as np\n",
    "from numpy import linalg as LA  #ユークリッドノルム\n",
    "import random"
   ]
  },
  {
   "cell_type": "code",
   "execution_count": 14,
   "metadata": {},
   "outputs": [],
   "source": [
    "def gram(a,b):\n",
    "    return ((np.dot(a,b)/np.dot(a,a))*a)"
   ]
  },
  {
   "cell_type": "markdown",
   "metadata": {},
   "source": [
    "　　ベクトル\n",
    "  \n",
    "$$[3,2,1]^{T},[2,1,3]^{T},[1,3,2]^{T}$$\n",
    "\n",
    "　　に対して、"
   ]
  },
  {
   "cell_type": "code",
   "execution_count": 7,
   "metadata": {},
   "outputs": [],
   "source": [
    "#直交ベクトル\n",
    "a=np.array([3,2,1])\n",
    "b=np.array([2,1,3])\n",
    "c=np.array([1,3,2])"
   ]
  },
  {
   "cell_type": "markdown",
   "metadata": {},
   "source": [
    "$$u_{1}=v_{1}\\u_{2}=v_{2}-proj_{u1}(v_{2})\\u_{2}=v_{3}-proj_{u1}(v_{3})-proj_{u2}(v_{3})\\.....\\u_{k}=v_{k}-\sum_{j=1}^{k-1}proj_{uj}(v_{k})$$"
   ]
  },
  {
   "cell_type": "code",
   "execution_count": 9,
   "metadata": {},
   "outputs": [
    {
     "name": "stdout",
     "output_type": "stream",
     "text": [
      "[3 2 1] [-0.35714286 -0.57142857  2.21428571] [-1.2   1.68  0.24]\n",
      "0.0\n"
     ]
    }
   ],
   "source": [
    "Va=a\n",
    "Vb=b-gram(Va,b)\n",
    "Vc=c-gram(Va,c)-gram(Vb,c)\n",
    "print(Va,Vb,Vc)\n",
    "print(np.dot(Va,Vb))\n",
    "#直交ベクトル"
   ]
  },
  {
   "cell_type": "markdown",
   "metadata": {},
   "source": [
    "$$e_{1}=\\frac{u_{1}}{||u_{1}||}\\\\e_{2}=\\frac{u_{2}}{||u_{2}||}\\\\......\\\\e_{k}=\\frac{u_{k}}{||u_{k}||}$$"
   ]
  },
  {
   "cell_type": "code",
   "execution_count": 11,
   "metadata": {},
   "outputs": [
    {
     "name": "stdout",
     "output_type": "stream",
     "text": [
      "[0.80178373 0.53452248 0.26726124] [-0.15430335 -0.24688536  0.95668077] [-0.57735027  0.80829038  0.11547005]\n"
     ]
    }
   ],
   "source": [
    "#絶対値\n",
    "Ea=Va/LA.norm(Va,2)\n",
    "Eb=Vb/LA.norm(Vb,2)\n",
    "Ec=Vc/LA.norm(Vc,2)\n",
    "print(Ea,Eb,Ec)\n",
    "#絶対値"
   ]
  },
  {
   "cell_type": "markdown",
   "metadata": {},
   "source": [
    "確認"
   ]
  },
  {
   "cell_type": "code",
   "execution_count": 17,
   "metadata": {},
   "outputs": [
    {
     "name": "stdout",
     "output_type": "stream",
     "text": [
      "0.0\n"
     ]
    }
   ],
   "source": [
    "print(np.dot(Ea,Eb))"
   ]
  }
 ],
 "metadata": {
  "kernelspec": {
   "display_name": "Python 3",
   "language": "python",
   "name": "python3"
  },
  "language_info": {
   "codemirror_mode": {
    "name": "ipython",
    "version": 3
   },
   "file_extension": ".py",
   "mimetype": "text/x-python",
   "name": "python",
   "nbconvert_exporter": "python",
   "pygments_lexer": "ipython3",
   "version": "3.9.0"
  }
 },
 "nbformat": 4,
 "nbformat_minor": 4
}
